{
 "cells": [
  {
   "cell_type": "code",
   "execution_count": 1,
   "id": "d5af1923",
   "metadata": {},
   "outputs": [],
   "source": [
    "# # function\n",
    "# pre defined function\n",
    "# user defined function"
   ]
  },
  {
   "cell_type": "code",
   "execution_count": 2,
   "id": "9e8d2cb1",
   "metadata": {},
   "outputs": [],
   "source": [
    "# # pre defined function\n",
    "# print() input() int() float() str() list() tuple() dict()"
   ]
  },
  {
   "cell_type": "code",
   "execution_count": 3,
   "id": "1f5f338a",
   "metadata": {},
   "outputs": [],
   "source": [
    "# def <function>():        # defining\n",
    "#     <operations>\n",
    "    \n",
    "# <function>()             # Call"
   ]
  },
  {
   "cell_type": "code",
   "execution_count": 7,
   "id": "44d4be8e",
   "metadata": {},
   "outputs": [
    {
     "name": "stdout",
     "output_type": "stream",
     "text": [
      "Hello World\n"
     ]
    }
   ],
   "source": [
    "def hello():\n",
    "    print(\"Hello World\")\n",
    "    \n",
    "hello()"
   ]
  },
  {
   "cell_type": "code",
   "execution_count": 8,
   "id": "ebbae696",
   "metadata": {},
   "outputs": [
    {
     "name": "stdout",
     "output_type": "stream",
     "text": [
      "Enter l = 100\n",
      "Enter b = 4\n",
      "400\n"
     ]
    }
   ],
   "source": [
    "def cal():\n",
    "    l = int(input(\"Enter l = \"))      #local variable\n",
    "    b = int(input(\"Enter b = \"))      #local variable\n",
    "    a = l*b\n",
    "    print(a)\n",
    "    \n",
    "cal()"
   ]
  },
  {
   "cell_type": "code",
   "execution_count": null,
   "id": "eff4071f",
   "metadata": {},
   "outputs": [],
   "source": [
    "l = int(input(\"Enter l = \"))      #global variable\n",
    "b = int(input(\"Enter b = \"))      #global variable\n",
    "def cal():\n",
    "    a = l*b\n",
    "    print(a)\n",
    "    \n",
    "cal()"
   ]
  },
  {
   "cell_type": "code",
   "execution_count": 9,
   "id": "11156d04",
   "metadata": {},
   "outputs": [
    {
     "name": "stdout",
     "output_type": "stream",
     "text": [
      "Hello World\n"
     ]
    }
   ],
   "source": [
    "def hello(x):            #parameter\n",
    "    print(x)\n",
    "\n",
    "hello(\"Hello World\")     #argument"
   ]
  },
  {
   "cell_type": "code",
   "execution_count": 10,
   "id": "a7304405",
   "metadata": {},
   "outputs": [
    {
     "name": "stdout",
     "output_type": "stream",
     "text": [
      "Enter l = 1000\n",
      "Enter b = 200\n",
      "200000\n"
     ]
    }
   ],
   "source": [
    "l = int(input(\"Enter l = \"))      #global variable\n",
    "b = int(input(\"Enter b = \"))      #global variable\n",
    "def cal(x,y):                     # x,y is parameter\n",
    "    a = x*y\n",
    "    print(a)\n",
    "    \n",
    "cal(l,b)                          # l,b argument"
   ]
  },
  {
   "cell_type": "code",
   "execution_count": null,
   "id": "cb084bb6",
   "metadata": {},
   "outputs": [],
   "source": [
    "l = int(input(\"Enter l = \"))      #global variable\n",
    "b = int(input(\"Enter b = \"))      #global variable\n",
    "h = int(input(\"Enter h = \"))\n",
    "def cal(x,y,z):                     # x,y,z is parameter\n",
    "    a = x*y\n",
    "    v = a*z\n",
    "    print(a)\n",
    "    print(v)\n",
    "    \n",
    "cal(l,b,h)                          # l,b,h argument"
   ]
  },
  {
   "cell_type": "code",
   "execution_count": 11,
   "id": "678da40c",
   "metadata": {},
   "outputs": [
    {
     "name": "stdout",
     "output_type": "stream",
     "text": [
      "C\n",
      "C++\n",
      "Java\n",
      "Ruby\n",
      "Python\n"
     ]
    }
   ],
   "source": [
    "def language(lan = \"Python\"):\n",
    "    print(lan)\n",
    "    \n",
    "language(\"C\")\n",
    "language(\"C++\")\n",
    "language(\"Java\")\n",
    "language(\"Ruby\")\n",
    "language()"
   ]
  },
  {
   "cell_type": "code",
   "execution_count": 12,
   "id": "6cc5c70e",
   "metadata": {},
   "outputs": [
    {
     "name": "stdout",
     "output_type": "stream",
     "text": [
      "Hello World\n"
     ]
    }
   ],
   "source": [
    "#return type\n",
    "def hello():\n",
    "    return \"Hello World\"\n",
    "\n",
    "print(hello())"
   ]
  },
  {
   "cell_type": "code",
   "execution_count": null,
   "id": "a1bb1752",
   "metadata": {},
   "outputs": [],
   "source": [
    "def cal():\n",
    "    l = int(input(\"Enter l = \"))      #local variable\n",
    "    b = int(input(\"Enter b = \"))      #local variable\n",
    "    a = l*b\n",
    "    return a\n",
    "    \n",
    "area = cal()\n",
    "h = int(input(\"Enter h = \"))\n",
    "print(area)\n",
    "volume = area * h\n",
    "print(volume)"
   ]
  },
  {
   "cell_type": "code",
   "execution_count": 14,
   "id": "17629a85",
   "metadata": {},
   "outputs": [
    {
     "name": "stdout",
     "output_type": "stream",
     "text": [
      "Enter l = 100\n",
      "Enter b = 20\n",
      "Enter h = 4\n",
      "2000\n",
      "8000\n"
     ]
    }
   ],
   "source": [
    "def cal():\n",
    "    l = int(input(\"Enter l = \"))      #local variable\n",
    "    b = int(input(\"Enter b = \"))      #local variable\n",
    "    h = int(input(\"Enter h = \"))\n",
    "    a = l*b\n",
    "    v = a*h\n",
    "    return a,v\n",
    "    \n",
    "area, volume = cal()\n",
    "print(area)\n",
    "print(volume)"
   ]
  },
  {
   "cell_type": "code",
   "execution_count": null,
   "id": "28860c4d",
   "metadata": {},
   "outputs": [],
   "source": [
    "# WAP to create grading system using function\n",
    "# WAP to create a basic calculator using function"
   ]
  },
  {
   "cell_type": "code",
   "execution_count": null,
   "id": "cfa88cf3",
   "metadata": {},
   "outputs": [],
   "source": [
    "# recursive function\n",
    "def hello():\n",
    "    print(\"Hello World\")\n",
    "    hello()\n",
    "    \n",
    "hello()"
   ]
  },
  {
   "cell_type": "code",
   "execution_count": 1,
   "id": "344bfb40",
   "metadata": {},
   "outputs": [
    {
     "name": "stdout",
     "output_type": "stream",
     "text": [
      "Hello World\n",
      "Enter y for more print y\n",
      "Hello World\n",
      "Enter y for more print y\n",
      "Hello World\n",
      "Enter y for more print adassad\n"
     ]
    }
   ],
   "source": [
    "# recursive function\n",
    "def hello():\n",
    "    print(\"Hello World\")\n",
    "    x = input(\"Enter y for more print \")\n",
    "    if x == 'y':\n",
    "        hello()\n",
    "    \n",
    "hello()"
   ]
  },
  {
   "cell_type": "code",
   "execution_count": 2,
   "id": "29ade691",
   "metadata": {},
   "outputs": [
    {
     "name": "stdout",
     "output_type": "stream",
     "text": [
      "3.141592653589793\n"
     ]
    }
   ],
   "source": [
    "import math as m\n",
    "print(m.pi)"
   ]
  },
  {
   "cell_type": "code",
   "execution_count": 3,
   "id": "336f31e0",
   "metadata": {},
   "outputs": [
    {
     "data": {
      "text/plain": [
       "120"
      ]
     },
     "execution_count": 3,
     "metadata": {},
     "output_type": "execute_result"
    }
   ],
   "source": [
    "m.factorial(5)"
   ]
  },
  {
   "cell_type": "code",
   "execution_count": 5,
   "id": "c1c4e9de",
   "metadata": {},
   "outputs": [
    {
     "name": "stdout",
     "output_type": "stream",
     "text": [
      "1.0\n"
     ]
    }
   ],
   "source": [
    "print(m.sin(m.pi/2))"
   ]
  },
  {
   "cell_type": "code",
   "execution_count": 6,
   "id": "4ff1c7a3",
   "metadata": {},
   "outputs": [
    {
     "name": "stdout",
     "output_type": "stream",
     "text": [
      "6.123233995736766e-17\n"
     ]
    }
   ],
   "source": [
    "print(m.cos(m.pi/2))"
   ]
  },
  {
   "cell_type": "code",
   "execution_count": 7,
   "id": "05ccb9e3",
   "metadata": {},
   "outputs": [
    {
     "name": "stdout",
     "output_type": "stream",
     "text": [
      "1.633123935319537e+16\n"
     ]
    }
   ],
   "source": [
    "print(m.tan(m.pi/2))"
   ]
  },
  {
   "cell_type": "code",
   "execution_count": 8,
   "id": "b41aac5a",
   "metadata": {},
   "outputs": [],
   "source": [
    "# # lambda function\n",
    "# lambda <arguments>:<operation>"
   ]
  },
  {
   "cell_type": "code",
   "execution_count": 10,
   "id": "d65576ac",
   "metadata": {},
   "outputs": [
    {
     "name": "stdout",
     "output_type": "stream",
     "text": [
      "25\n"
     ]
    }
   ],
   "source": [
    "x = lambda a : a**2\n",
    "print(x(5))"
   ]
  },
  {
   "cell_type": "code",
   "execution_count": 11,
   "id": "78f211c8",
   "metadata": {},
   "outputs": [
    {
     "name": "stdout",
     "output_type": "stream",
     "text": [
      "20\n"
     ]
    }
   ],
   "source": [
    "x = lambda l,b:l*b\n",
    "print(x(10,2))"
   ]
  },
  {
   "cell_type": "code",
   "execution_count": 12,
   "id": "eb378c01",
   "metadata": {},
   "outputs": [],
   "source": [
    "# filter\n",
    "# mapping"
   ]
  },
  {
   "cell_type": "code",
   "execution_count": 13,
   "id": "9a7fe4be",
   "metadata": {},
   "outputs": [],
   "source": [
    "# filter"
   ]
  },
  {
   "cell_type": "code",
   "execution_count": 14,
   "id": "daf56419",
   "metadata": {},
   "outputs": [
    {
     "data": {
      "text/plain": [
       "[2, 4, 6, 4, 8, 2, 6, 8]"
      ]
     },
     "execution_count": 14,
     "metadata": {},
     "output_type": "execute_result"
    }
   ],
   "source": [
    "a = [1,2,4,5,6,3,4,7,8,9,2,6,7,8,9]\n",
    "list(filter(lambda x : x%2==0, a))"
   ]
  },
  {
   "cell_type": "code",
   "execution_count": 16,
   "id": "1d4f6168",
   "metadata": {},
   "outputs": [
    {
     "data": {
      "text/plain": [
       "['Apple', 'Ball', 'Zebra']"
      ]
     },
     "execution_count": 16,
     "metadata": {},
     "output_type": "execute_result"
    }
   ],
   "source": [
    "a = [\"Apple\",\"Ball\",\"cat\",\"dog\",\"fish\",\"Zebra\"]\n",
    "list(filter(lambda x:x[0].isupper(),a))"
   ]
  },
  {
   "cell_type": "code",
   "execution_count": 17,
   "id": "2ae745da",
   "metadata": {},
   "outputs": [
    {
     "data": {
      "text/plain": [
       "[6, 7, 8, 9, 6, 7, 8, 9]"
      ]
     },
     "execution_count": 17,
     "metadata": {},
     "output_type": "execute_result"
    }
   ],
   "source": [
    "a = [1,2,4,5,6,3,4,7,8,9,2,6,7,8,9]\n",
    "list(filter(lambda x : x>5, a))"
   ]
  },
  {
   "cell_type": "code",
   "execution_count": 20,
   "id": "f5555f65",
   "metadata": {},
   "outputs": [
    {
     "data": {
      "text/plain": [
       "[2, 4, 6, 8, 10]"
      ]
     },
     "execution_count": 20,
     "metadata": {},
     "output_type": "execute_result"
    }
   ],
   "source": [
    "# map\n",
    "a = [1,2,3,4,5]\n",
    "list(map(lambda x: x*2,a))"
   ]
  },
  {
   "cell_type": "code",
   "execution_count": 21,
   "id": "b3f4ed59",
   "metadata": {},
   "outputs": [
    {
     "data": {
      "text/plain": [
       "['apple', 'ball', 'cat', 'dog', 'fish', 'zebra']"
      ]
     },
     "execution_count": 21,
     "metadata": {},
     "output_type": "execute_result"
    }
   ],
   "source": [
    "a = [\"Apple\",\"Ball\",\"cat\",\"dog\",\"fish\",\"Zebra\"]\n",
    "list(map(lambda x: x.lower(),a))"
   ]
  },
  {
   "cell_type": "code",
   "execution_count": 23,
   "id": "a4c306ad",
   "metadata": {},
   "outputs": [
    {
     "data": {
      "text/plain": [
       "[10.5, 11.0, 11.5, 12.0, 12.5]"
      ]
     },
     "execution_count": 23,
     "metadata": {},
     "output_type": "execute_result"
    }
   ],
   "source": [
    "a = [1,2,3,4,5]\n",
    "list(map(lambda x: 0.5*x + 10,a))"
   ]
  },
  {
   "cell_type": "code",
   "execution_count": null,
   "id": "cb304317",
   "metadata": {},
   "outputs": [],
   "source": []
  }
 ],
 "metadata": {
  "kernelspec": {
   "display_name": "Python 3 (ipykernel)",
   "language": "python",
   "name": "python3"
  },
  "language_info": {
   "codemirror_mode": {
    "name": "ipython",
    "version": 3
   },
   "file_extension": ".py",
   "mimetype": "text/x-python",
   "name": "python",
   "nbconvert_exporter": "python",
   "pygments_lexer": "ipython3",
   "version": "3.9.12"
  }
 },
 "nbformat": 4,
 "nbformat_minor": 5
}
