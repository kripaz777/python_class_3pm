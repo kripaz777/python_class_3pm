{
 "cells": [
  {
   "cell_type": "code",
   "execution_count": null,
   "id": "dc27fe40",
   "metadata": {},
   "outputs": [],
   "source": [
    "# file han\n",
    "\n",
    "# file = open('<file_name>','<mode>')\n",
    "# <operation>\n",
    "# file.close()\n",
    "\n",
    "# with open('<file_name>','<mode>') as file:\n",
    "#     <operations>\n",
    "    \n",
    "# different types of modes\n",
    "# read -> r\n",
    "# create -> x\n",
    "# write -> w\n",
    "# append -> a"
   ]
  },
  {
   "cell_type": "code",
   "execution_count": 1,
   "id": "79b2fb95",
   "metadata": {},
   "outputs": [],
   "source": [
    "file = open('data.txt','x')\n",
    "file.close()"
   ]
  },
  {
   "cell_type": "code",
   "execution_count": 4,
   "id": "0d240863",
   "metadata": {},
   "outputs": [
    {
     "name": "stdout",
     "output_type": "stream",
     "text": [
      "1.Hello World\n",
      "2.Hello World\n",
      "3.Hello World\n",
      "4.Hello World\n",
      "5.Hello World\n",
      "6.Hello World\n",
      "7.Hello World\n",
      "<class 'str'>\n"
     ]
    }
   ],
   "source": [
    "file = open('data.txt','r')\n",
    "y = file.read()\n",
    "print(y)\n",
    "print(type(y))\n",
    "file.close()"
   ]
  },
  {
   "cell_type": "code",
   "execution_count": 7,
   "id": "49c140d5",
   "metadata": {},
   "outputs": [
    {
     "data": {
      "text/plain": [
       "['1.Hello World',\n",
       " '2.Hello World',\n",
       " '3.Hello World',\n",
       " '4.Hello World',\n",
       " '5.Hello World',\n",
       " '6.Hello World',\n",
       " '7.Hello World']"
      ]
     },
     "execution_count": 7,
     "metadata": {},
     "output_type": "execute_result"
    }
   ],
   "source": [
    "lines = y.split(\"\\n\")\n",
    "lines"
   ]
  },
  {
   "cell_type": "code",
   "execution_count": 9,
   "id": "ab24905f",
   "metadata": {},
   "outputs": [
    {
     "data": {
      "text/plain": [
       "'2.Hello World'"
      ]
     },
     "execution_count": 9,
     "metadata": {},
     "output_type": "execute_result"
    }
   ],
   "source": [
    "lines[1]"
   ]
  },
  {
   "cell_type": "code",
   "execution_count": 10,
   "id": "43d4ed12",
   "metadata": {},
   "outputs": [],
   "source": [
    "file = open('data1.txt','w')\n",
    "file.write('Hello World')\n",
    "file.close()"
   ]
  },
  {
   "cell_type": "code",
   "execution_count": null,
   "id": "e23f5bed",
   "metadata": {},
   "outputs": [],
   "source": [
    "s = \"\"\n",
    "n = int(input(\"Enter n = \"))\n",
    "for i in range(n):\n",
    "    name = input(\"Enter name = \")\n",
    "    age = int(input('Enter age = '))\n",
    "    add = input(\"Enter add = \")\n",
    "    info = f\"{name} {age} {add}\\n\"\n",
    "    s = s + info\n",
    "    \n",
    "file = open('info.txt','w')\n",
    "file.write(s)\n",
    "file.close()"
   ]
  },
  {
   "cell_type": "code",
   "execution_count": null,
   "id": "7032722b",
   "metadata": {},
   "outputs": [],
   "source": [
    "all_total = 0\n",
    "s = \"\"\n",
    "n = int(input(\"Enter n = \"))\n",
    "for i in range(n):\n",
    "    product_name = input(\"Enter product name = \")\n",
    "    price = int(input('Enter price = '))\n",
    "    qty = int(input(\"Enter qty = \"))\n",
    "    total = price * qty\n",
    "    all_total = all_total + total\n",
    "    info = f\"{product_name} {price} {qty}\\n\"\n",
    "    s = s + info\n",
    "print(\"All total = \",all_total)    \n",
    "file = open('bill.txt','w')\n",
    "file.write(s)\n",
    "file.close()"
   ]
  },
  {
   "cell_type": "code",
   "execution_count": 11,
   "id": "acfc8ec4",
   "metadata": {},
   "outputs": [
    {
     "data": {
      "text/plain": [
       "'C:\\\\Users\\\\Aayush\\\\Python_class_3pm'"
      ]
     },
     "execution_count": 11,
     "metadata": {},
     "output_type": "execute_result"
    }
   ],
   "source": [
    "pwd"
   ]
  },
  {
   "cell_type": "code",
   "execution_count": 13,
   "id": "7428a2de",
   "metadata": {},
   "outputs": [
    {
     "name": "stdout",
     "output_type": "stream",
     "text": [
      "Enter n = 2\n",
      "Enter product name = Momo\n",
      "Enter price = 200\n",
      "Enter qty = 3\n",
      "Enter product name = Coke\n",
      "Enter price = 200\n",
      "Enter qty = 3\n",
      "All total =  1200\n"
     ]
    }
   ],
   "source": [
    "all_total = 0\n",
    "s = \"\"\n",
    "file = open('bill.csv','w')\n",
    "file.write('name,price,quantity,total\\n')\n",
    "n = int(input(\"Enter n = \"))\n",
    "for i in range(n):\n",
    "    product_name = input(\"Enter product name = \")\n",
    "    price = int(input('Enter price = '))\n",
    "    qty = int(input(\"Enter qty = \"))\n",
    "    total = price * qty\n",
    "    all_total = all_total + total\n",
    "    info = f\"{product_name},{price},{qty}\\n\"\n",
    "    s = s + info\n",
    "print(\"All total = \",all_total)    \n",
    "file.write(s)\n",
    "file.close()"
   ]
  },
  {
   "cell_type": "code",
   "execution_count": null,
   "id": "935d38bf",
   "metadata": {},
   "outputs": [],
   "source": []
  }
 ],
 "metadata": {
  "kernelspec": {
   "display_name": "Python 3 (ipykernel)",
   "language": "python",
   "name": "python3"
  },
  "language_info": {
   "codemirror_mode": {
    "name": "ipython",
    "version": 3
   },
   "file_extension": ".py",
   "mimetype": "text/x-python",
   "name": "python",
   "nbconvert_exporter": "python",
   "pygments_lexer": "ipython3",
   "version": "3.9.12"
  }
 },
 "nbformat": 4,
 "nbformat_minor": 5
}
