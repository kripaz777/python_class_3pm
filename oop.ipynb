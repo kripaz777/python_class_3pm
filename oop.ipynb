{
 "cells": [
  {
   "cell_type": "code",
   "execution_count": 1,
   "id": "bfbe8f6f",
   "metadata": {},
   "outputs": [],
   "source": [
    "class Hello:\n",
    "    pass\n",
    "\n",
    "obj = Hello()"
   ]
  },
  {
   "cell_type": "code",
   "execution_count": 5,
   "id": "3cd8c1e2",
   "metadata": {},
   "outputs": [
    {
     "name": "stdout",
     "output_type": "stream",
     "text": [
      "Hello World\n"
     ]
    }
   ],
   "source": [
    "class Hello:                  #class\n",
    "    @staticmethod\n",
    "    def hello():              #method\n",
    "        print(\"Hello World\")\n",
    "        \n",
    "obj = Hello()                 #object\n",
    "obj.hello()"
   ]
  },
  {
   "cell_type": "code",
   "execution_count": 6,
   "id": "1fcc7130",
   "metadata": {},
   "outputs": [
    {
     "name": "stdout",
     "output_type": "stream",
     "text": [
      "Hello World\n"
     ]
    }
   ],
   "source": [
    "class Hello:                  #class\n",
    "    def hello(self):              #method\n",
    "        print(\"Hello World\")\n",
    "        \n",
    "obj = Hello()                 #object\n",
    "obj.hello()"
   ]
  },
  {
   "cell_type": "code",
   "execution_count": 8,
   "id": "7ba846da",
   "metadata": {},
   "outputs": [
    {
     "name": "stdout",
     "output_type": "stream",
     "text": [
      "20\n"
     ]
    }
   ],
   "source": [
    "class Cal:\n",
    "    @staticmethod\n",
    "    def cal():\n",
    "        l = 10\n",
    "        b = 2\n",
    "        a = l*b\n",
    "        print(a)\n",
    "        \n",
    "obj = Cal()\n",
    "obj.cal()"
   ]
  },
  {
   "cell_type": "code",
   "execution_count": 9,
   "id": "eca3b541",
   "metadata": {},
   "outputs": [
    {
     "name": "stdout",
     "output_type": "stream",
     "text": [
      "20\n"
     ]
    }
   ],
   "source": [
    "class Cal:\n",
    "    def cal(self):\n",
    "        l = 10\n",
    "        b = 2\n",
    "        a = l*b\n",
    "        print(a)\n",
    "        \n",
    "obj = Cal()\n",
    "obj.cal()"
   ]
  },
  {
   "cell_type": "code",
   "execution_count": 10,
   "id": "df9d3d52",
   "metadata": {},
   "outputs": [
    {
     "name": "stdout",
     "output_type": "stream",
     "text": [
      "20\n"
     ]
    }
   ],
   "source": [
    "class Cal:\n",
    "    def cal(self,l,b):\n",
    "        a = l*b\n",
    "        print(a)\n",
    "\n",
    "l = 10\n",
    "b = 2\n",
    "obj = Cal()\n",
    "obj.cal(l,b)"
   ]
  },
  {
   "cell_type": "code",
   "execution_count": 11,
   "id": "daa9c5b1",
   "metadata": {},
   "outputs": [
    {
     "name": "stdout",
     "output_type": "stream",
     "text": [
      "20\n"
     ]
    }
   ],
   "source": [
    "class Cal:\n",
    "    def __init__(self,l,b):\n",
    "        self.l = l\n",
    "        self.b = b\n",
    "        \n",
    "    def cal(self):\n",
    "        a = self.l*self.b\n",
    "        print(a)\n",
    "\n",
    "l = 10\n",
    "b = 2\n",
    "obj = Cal(l,b)\n",
    "obj.cal()"
   ]
  },
  {
   "cell_type": "code",
   "execution_count": 12,
   "id": "07065108",
   "metadata": {},
   "outputs": [
    {
     "name": "stdout",
     "output_type": "stream",
     "text": [
      "50\n",
      "100\n"
     ]
    }
   ],
   "source": [
    "class Cal:\n",
    "    def __init__(self,l,b,h):\n",
    "        self.l = l\n",
    "        self.b = b\n",
    "        self.h = h\n",
    "        \n",
    "    def area(self):\n",
    "        a = self.l*self.b\n",
    "        print(a)\n",
    "        \n",
    "    def volume(self):\n",
    "        v = self.l*self.b*self.h\n",
    "        print(v)\n",
    "\n",
    "l = 10\n",
    "b = 5\n",
    "h = 2\n",
    "obj = Cal(l,b,h)\n",
    "obj.area()\n",
    "obj.volume()"
   ]
  },
  {
   "cell_type": "code",
   "execution_count": 14,
   "id": "968db2f9",
   "metadata": {},
   "outputs": [
    {
     "name": "stdout",
     "output_type": "stream",
     "text": [
      "Enter name = Ram\n",
      "Ener age = 78\n",
      "Enter add = Kathmandu\n",
      "Hello World I am Ram. I am from Kathmandu. I am 78\n",
      "Ram\n",
      "78\n",
      "Kathmandu\n"
     ]
    }
   ],
   "source": [
    "class Info:\n",
    "    def __init__(self):\n",
    "        self.name = input(\"Enter name = \")\n",
    "        self.age = int(input(\"Ener age = \"))\n",
    "        self.add = input(\"Enter add = \")\n",
    "    def info(self):\n",
    "        print(f\"Hello World I am {self.name}. I am from {self.add}. I am {self.age}\")\n",
    "        \n",
    "obj = Info()\n",
    "obj.info()\n",
    "print(obj.name)\n",
    "print(obj.age)\n",
    "print(obj.add)"
   ]
  },
  {
   "cell_type": "code",
   "execution_count": null,
   "id": "e7c9fc1b",
   "metadata": {},
   "outputs": [],
   "source": [
    "class Info:\n",
    "    def __init__(self):\n",
    "        self.name = input(\"Enter name = \")\n",
    "        self.age = int(input(\"Ener age = \"))\n",
    "        \n",
    "    def info(self,add):\n",
    "        print(f\"Hello World I am {self.name}. I am from {add}. I am {self.age}\")\n",
    "        \n",
    "obj = Info()\n",
    "obj.info(\"Kathmandu\")\n",
    "print(obj.name)\n",
    "print(obj.age)"
   ]
  }
 ],
 "metadata": {
  "kernelspec": {
   "display_name": "Python 3 (ipykernel)",
   "language": "python",
   "name": "python3"
  },
  "language_info": {
   "codemirror_mode": {
    "name": "ipython",
    "version": 3
   },
   "file_extension": ".py",
   "mimetype": "text/x-python",
   "name": "python",
   "nbconvert_exporter": "python",
   "pygments_lexer": "ipython3",
   "version": "3.9.12"
  }
 },
 "nbformat": 4,
 "nbformat_minor": 5
}
