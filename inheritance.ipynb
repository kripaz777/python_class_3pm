{
 "cells": [
  {
   "cell_type": "code",
   "execution_count": 1,
   "id": "afb665d7",
   "metadata": {},
   "outputs": [],
   "source": [
    "# class A:\n",
    "#     <methods>\n",
    "#     <methods>\n",
    "    \n",
    "# class B(A):\n",
    "#     <method1>\n",
    "#     <method2>\n",
    "    \n",
    "# obj = B()\n"
   ]
  },
  {
   "cell_type": "code",
   "execution_count": 2,
   "id": "182a6217",
   "metadata": {},
   "outputs": [
    {
     "name": "stdout",
     "output_type": "stream",
     "text": [
      "Hello World I am Ram. I am from Kathmandu. I am 45\n"
     ]
    }
   ],
   "source": [
    "class A:\n",
    "    def __init__(self):\n",
    "        self.name = \"Ram\"\n",
    "        self.age = 45\n",
    "        self.add = \"Kathmandu\"\n",
    "        \n",
    "class B(A):\n",
    "    def info(self):\n",
    "        print(f\"Hello World I am {self.name}. I am from {self.add}. I am {self.age}\")\n",
    "        \n",
    "obj = B()\n",
    "obj.info()"
   ]
  },
  {
   "cell_type": "code",
   "execution_count": null,
   "id": "a869ca6d",
   "metadata": {},
   "outputs": [],
   "source": [
    "class A:\n",
    "    def __init__(self,name,age,add):\n",
    "        self.name = name\n",
    "        self.age = age\n",
    "        self.add = add\n",
    "        \n",
    "class B(A):\n",
    "    def info(self):\n",
    "        print(f\"Hello World I am {self.name}. I am from {self.add}. I am {self.age}\")\n",
    "        \n",
    "obj = B(\"Ram\",'45','Kathmandu')\n",
    "obj.info()"
   ]
  },
  {
   "cell_type": "code",
   "execution_count": 3,
   "id": "2c70a8f3",
   "metadata": {},
   "outputs": [
    {
     "name": "stdout",
     "output_type": "stream",
     "text": [
      "Hello World I am Ram. I am from Kathmandu. I am 45\n"
     ]
    }
   ],
   "source": [
    "class A:\n",
    "    def __init__(self,age,add):\n",
    "        self.age = age\n",
    "        self.add = add\n",
    "        \n",
    "class B(A):\n",
    "    def __init__(self,name,age,add):\n",
    "        self.name = name\n",
    "        A.__init__(self,age,add)\n",
    "    def info(self):\n",
    "        print(f\"Hello World I am {self.name}. I am from {self.add}. I am {self.age}\")\n",
    "        \n",
    "obj = B(\"Ram\",'45','Kathmandu')\n",
    "obj.info()"
   ]
  },
  {
   "cell_type": "code",
   "execution_count": 6,
   "id": "3749e54b",
   "metadata": {},
   "outputs": [],
   "source": [
    "#multilevel\n",
    "class A:\n",
    "    pass\n",
    "\n",
    "class B(A):\n",
    "    pass\n",
    "\n",
    "class C(B):\n",
    "    pass\n",
    "\n",
    "obj = C()"
   ]
  },
  {
   "cell_type": "code",
   "execution_count": 7,
   "id": "5a3d498c",
   "metadata": {},
   "outputs": [
    {
     "name": "stdout",
     "output_type": "stream",
     "text": [
      "Hello World I am Ram. I am from Kathmandu. I am 45\n"
     ]
    }
   ],
   "source": [
    "class A:\n",
    "    def __init__(self,add):\n",
    "        self.add = add\n",
    "        \n",
    "class B(A):\n",
    "    def __init__(self,age,add):\n",
    "        self.age = age\n",
    "        A.__init__(self,add)\n",
    "        \n",
    "class C(B):\n",
    "    def __init__(self,name,age,add):\n",
    "        self.name = name\n",
    "        B.__init__(self,age,add)\n",
    "    def info(self):\n",
    "        print(f\"Hello World I am {self.name}. I am from {self.add}. I am {self.age}\")\n",
    "        \n",
    "        \n",
    "obj = C(\"Ram\",'45','Kathmandu')\n",
    "obj.info()"
   ]
  },
  {
   "cell_type": "code",
   "execution_count": 8,
   "id": "32f4d4c6",
   "metadata": {},
   "outputs": [
    {
     "name": "stdout",
     "output_type": "stream",
     "text": [
      "Hello World I am Ram. I am from Kathmandu. I am 45\n"
     ]
    }
   ],
   "source": [
    "#Multiple inheritance\n",
    "class A:\n",
    "    def __init__(self,add):\n",
    "        self.add = add\n",
    "        \n",
    "class B:\n",
    "    def __init__(self,age):\n",
    "        self.age = age\n",
    "        \n",
    "class C(A,B):\n",
    "    def __init__(self,name,age,add):\n",
    "        self.name = name\n",
    "        B.__init__(self,age)\n",
    "        A.__init__(self,add)\n",
    "        \n",
    "    def info(self):\n",
    "        print(f\"Hello World I am {self.name}. I am from {self.add}. I am {self.age}\")\n",
    "        \n",
    "        \n",
    "obj = C(\"Ram\",'45','Kathmandu')\n",
    "obj.info()"
   ]
  },
  {
   "cell_type": "code",
   "execution_count": 2,
   "id": "60755a5e",
   "metadata": {},
   "outputs": [
    {
     "name": "stdout",
     "output_type": "stream",
     "text": [
      "Ram\n",
      "34\n",
      "Kathmandu\n"
     ]
    }
   ],
   "source": [
    "#public members\n",
    "class Info:\n",
    "    def __init__(self):\n",
    "        self.name = \"Ram\"\n",
    "        self.age = 34\n",
    "        self.add = \"Kathmandu\"\n",
    "        \n",
    "obj = Info()\n",
    "print(obj.name)\n",
    "print(obj.age)\n",
    "print(obj.add)"
   ]
  },
  {
   "cell_type": "code",
   "execution_count": 3,
   "id": "d3b328be",
   "metadata": {},
   "outputs": [
    {
     "name": "stdout",
     "output_type": "stream",
     "text": [
      "Ram\n",
      "34\n",
      "Kathmandu\n"
     ]
    }
   ],
   "source": [
    "#protected members\n",
    "class Info:\n",
    "    def __init__(self):\n",
    "        self._name = \"Ram\"\n",
    "        self._age = 34\n",
    "        self._add = \"Kathmandu\"\n",
    "        \n",
    "obj = Info()\n",
    "print(obj._name)\n",
    "print(obj._age)\n",
    "print(obj._add)"
   ]
  },
  {
   "cell_type": "code",
   "execution_count": 4,
   "id": "98611166",
   "metadata": {},
   "outputs": [
    {
     "ename": "AttributeError",
     "evalue": "'Info' object has no attribute '__name'",
     "output_type": "error",
     "traceback": [
      "\u001b[1;31m---------------------------------------------------------------------------\u001b[0m",
      "\u001b[1;31mAttributeError\u001b[0m                            Traceback (most recent call last)",
      "Input \u001b[1;32mIn [4]\u001b[0m, in \u001b[0;36m<cell line: 9>\u001b[1;34m()\u001b[0m\n\u001b[0;32m      6\u001b[0m         \u001b[38;5;28mself\u001b[39m\u001b[38;5;241m.\u001b[39m__add \u001b[38;5;241m=\u001b[39m \u001b[38;5;124m\"\u001b[39m\u001b[38;5;124mKathmandu\u001b[39m\u001b[38;5;124m\"\u001b[39m\n\u001b[0;32m      8\u001b[0m obj \u001b[38;5;241m=\u001b[39m Info()\n\u001b[1;32m----> 9\u001b[0m \u001b[38;5;28mprint\u001b[39m(\u001b[43mobj\u001b[49m\u001b[38;5;241;43m.\u001b[39;49m\u001b[43m__name\u001b[49m)\n\u001b[0;32m     10\u001b[0m \u001b[38;5;28mprint\u001b[39m(obj\u001b[38;5;241m.\u001b[39m__age)\n\u001b[0;32m     11\u001b[0m \u001b[38;5;28mprint\u001b[39m(obj\u001b[38;5;241m.\u001b[39m__add)\n",
      "\u001b[1;31mAttributeError\u001b[0m: 'Info' object has no attribute '__name'"
     ]
    }
   ],
   "source": [
    "#private members\n",
    "class Info:\n",
    "    def __init__(self):\n",
    "        self.__name = \"Ram\"\n",
    "        self.__age = 34\n",
    "        self.__add = \"Kathmandu\"\n",
    "        \n",
    "obj = Info()\n",
    "print(obj.__name)\n",
    "print(obj.__age)\n",
    "print(obj.__add)"
   ]
  },
  {
   "cell_type": "code",
   "execution_count": 6,
   "id": "086969f2",
   "metadata": {},
   "outputs": [
    {
     "name": "stdout",
     "output_type": "stream",
     "text": [
      "Hello World I am Ram. I am 45\n",
      "Hello World I am Ram. I am 45. I am from Kathmandu\n"
     ]
    }
   ],
   "source": [
    "class A:\n",
    "    def __init__(self):\n",
    "        self.name = \"Ram\"\n",
    "        self._age = 45\n",
    "        self.__add = \"Kathmandu\"\n",
    "        \n",
    "    def infos(self):\n",
    "        print(f\"Hello World I am {self.name}. I am {self._age}. I am from {self.__add}\")\n",
    "        \n",
    "\n",
    "class B(A):\n",
    "    def info(self):\n",
    "        print(f\"Hello World I am {self.name}. I am {self._age}\")\n",
    "        \n",
    "obj = B()\n",
    "obj.info()\n",
    "obj.infos()"
   ]
  },
  {
   "cell_type": "code",
   "execution_count": null,
   "id": "5d1074aa",
   "metadata": {},
   "outputs": [],
   "source": [
    "class A:\n",
    "    def __init__(self,add):\n",
    "        self.__add = add\n",
    "        \n",
    "class B(A):\n",
    "    def __init__(self,age,add):\n",
    "        self.__age = age\n",
    "        A.__init__(self,add)\n",
    "        \n",
    "class C(B):\n",
    "    def __init__(self,name,age,add):\n",
    "        self.name = name\n",
    "        B.__init__(self,age,add)\n",
    "    def info(self):\n",
    "        print(f\"Hello World I am {self.name}.)\n",
    "        \n",
    "        \n",
    "obj = C(\"Ram\",'45','Kathmandu')\n",
    "obj.info()"
   ]
  },
  {
   "cell_type": "code",
   "execution_count": 9,
   "id": "4462b37d",
   "metadata": {},
   "outputs": [
    {
     "name": "stdout",
     "output_type": "stream",
     "text": [
      "Hello World I am Ram. I am 89. I am from Kathmandu\n"
     ]
    }
   ],
   "source": [
    "#Multiple inheritance\n",
    "class A:\n",
    "    def __init__(self):\n",
    "        self.__add = \"Kathmandu\"\n",
    "    def add(self):\n",
    "        return self.__add\n",
    "        \n",
    "class B:\n",
    "    def __init__(self):\n",
    "        self._age = 89\n",
    "        \n",
    "class C(A,B):\n",
    "    def __init__(self):\n",
    "        self.name = \"Ram\"\n",
    "        B.__init__(self)\n",
    "        A.__init__(self)\n",
    "        \n",
    "    def info(self):\n",
    "        add = A.add(self)\n",
    "        print(f\"Hello World I am {self.name}. I am {self._age}. I am from {add}\")\n",
    "        \n",
    "        \n",
    "obj = C()\n",
    "obj.info()"
   ]
  },
  {
   "cell_type": "code",
   "execution_count": 12,
   "id": "b697e623",
   "metadata": {},
   "outputs": [
    {
     "ename": "AttributeError",
     "evalue": "'Info' object has no attribute '__name'",
     "output_type": "error",
     "traceback": [
      "\u001b[1;31m---------------------------------------------------------------------------\u001b[0m",
      "\u001b[1;31mAttributeError\u001b[0m                            Traceback (most recent call last)",
      "Input \u001b[1;32mIn [12]\u001b[0m, in \u001b[0;36m<cell line: 11>\u001b[1;34m()\u001b[0m\n\u001b[0;32m      8\u001b[0m         \u001b[38;5;28mprint\u001b[39m(\u001b[38;5;124mf\u001b[39m\u001b[38;5;124m\"\u001b[39m\u001b[38;5;124mHello World I am \u001b[39m\u001b[38;5;132;01m{\u001b[39;00m\u001b[38;5;28mself\u001b[39m\u001b[38;5;241m.\u001b[39m__name\u001b[38;5;132;01m}\u001b[39;00m\u001b[38;5;124m. I am \u001b[39m\u001b[38;5;132;01m{\u001b[39;00m\u001b[38;5;28mself\u001b[39m\u001b[38;5;241m.\u001b[39m__age\u001b[38;5;132;01m}\u001b[39;00m\u001b[38;5;124m. I am from \u001b[39m\u001b[38;5;132;01m{\u001b[39;00m\u001b[38;5;28mself\u001b[39m\u001b[38;5;241m.\u001b[39m__add\u001b[38;5;132;01m}\u001b[39;00m\u001b[38;5;124m\"\u001b[39m)\n\u001b[0;32m     10\u001b[0m obj \u001b[38;5;241m=\u001b[39m Info()\n\u001b[1;32m---> 11\u001b[0m \u001b[38;5;28mprint\u001b[39m(\u001b[43mobj\u001b[49m\u001b[38;5;241;43m.\u001b[39;49m\u001b[43m__name\u001b[49m)\n\u001b[0;32m     12\u001b[0m \u001b[38;5;28mprint\u001b[39m(obj\u001b[38;5;241m.\u001b[39m__age)\n\u001b[0;32m     13\u001b[0m \u001b[38;5;28mprint\u001b[39m(obj\u001b[38;5;241m.\u001b[39m__add)\n",
      "\u001b[1;31mAttributeError\u001b[0m: 'Info' object has no attribute '__name'"
     ]
    }
   ],
   "source": [
    "#private members\n",
    "class Info:\n",
    "    def __init__(self):\n",
    "        self.__name = \"Ram\"\n",
    "        self.__age = 34\n",
    "        self.__add = \"Kathmandu\"\n",
    "    def info(self):\n",
    "        print(f\"Hello World I am {self.__name}. I am {self.__age}. I am from {self.__add}\")\n",
    "        \n",
    "obj = Info()\n",
    "print(obj.__name)\n",
    "print(obj.__age)\n",
    "print(obj.__add)"
   ]
  },
  {
   "cell_type": "code",
   "execution_count": 11,
   "id": "8ce8c386",
   "metadata": {},
   "outputs": [
    {
     "name": "stdout",
     "output_type": "stream",
     "text": [
      "Ram\n",
      "34\n",
      "Kathmandu\n"
     ]
    }
   ],
   "source": [
    "class Info:\n",
    "    def __init__(self):\n",
    "        self.__name = \"Ram\"\n",
    "        self.__age = 34\n",
    "        self.__add = \"Kathmandu\"\n",
    "        \n",
    "obj = Info()\n",
    "print(obj._Info__name)\n",
    "print(obj._Info__age)\n",
    "print(obj._Info__add)"
   ]
  },
  {
   "cell_type": "code",
   "execution_count": null,
   "id": "312952b2",
   "metadata": {},
   "outputs": [],
   "source": []
  }
 ],
 "metadata": {
  "kernelspec": {
   "display_name": "Python 3 (ipykernel)",
   "language": "python",
   "name": "python3"
  },
  "language_info": {
   "codemirror_mode": {
    "name": "ipython",
    "version": 3
   },
   "file_extension": ".py",
   "mimetype": "text/x-python",
   "name": "python",
   "nbconvert_exporter": "python",
   "pygments_lexer": "ipython3",
   "version": "3.9.12"
  }
 },
 "nbformat": 4,
 "nbformat_minor": 5
}
