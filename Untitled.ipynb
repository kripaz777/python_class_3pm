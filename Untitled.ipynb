{
 "cells": [
  {
   "cell_type": "code",
   "execution_count": null,
   "id": "067141d7",
   "metadata": {},
   "outputs": [],
   "source": []
  },
  {
   "cell_type": "code",
   "execution_count": 1,
   "id": "52e3a7f6",
   "metadata": {},
   "outputs": [],
   "source": [
    "# # Dictionary\n",
    "# -Indexing\n",
    "# -Ordered\n",
    "# -Multiple and duplicate data\n",
    "# -Mutable"
   ]
  },
  {
   "cell_type": "code",
   "execution_count": 2,
   "id": "192989e1",
   "metadata": {},
   "outputs": [
    {
     "name": "stdout",
     "output_type": "stream",
     "text": [
      "{}\n",
      "<class 'dict'>\n"
     ]
    }
   ],
   "source": [
    "d = {}\n",
    "d = dict()\n",
    "print(d)\n",
    "print(type(d))"
   ]
  },
  {
   "cell_type": "code",
   "execution_count": 3,
   "id": "7bf31793",
   "metadata": {},
   "outputs": [],
   "source": [
    "# d = {<key>:<value>, <key>:<value>,...}"
   ]
  },
  {
   "cell_type": "code",
   "execution_count": 6,
   "id": "713818e2",
   "metadata": {},
   "outputs": [
    {
     "name": "stdout",
     "output_type": "stream",
     "text": [
      "{'a': 'Apple', 'b': 'Ball', 'c': 'Cat'}\n",
      "3\n",
      "Apple\n"
     ]
    }
   ],
   "source": [
    "d = {'a':'Apple','b':\"Ball\",'c':\"Cat\"}\n",
    "print(d)\n",
    "print(len(d))\n",
    "print(d['a'])"
   ]
  },
  {
   "cell_type": "code",
   "execution_count": 7,
   "id": "274673ac",
   "metadata": {},
   "outputs": [
    {
     "data": {
      "text/plain": [
       "{'a': 'apple', 'b': 'Ball', 'c': 'Cat'}"
      ]
     },
     "execution_count": 7,
     "metadata": {},
     "output_type": "execute_result"
    }
   ],
   "source": [
    "d = {'a':'Apple','b':\"Ball\",'c':\"Cat\",'a':'apple'}\n",
    "d"
   ]
  },
  {
   "cell_type": "code",
   "execution_count": 8,
   "id": "c0b32e7d",
   "metadata": {},
   "outputs": [
    {
     "data": {
      "text/plain": [
       "{'a': 'Apple', 'b': 'Ball', 'c': 'Cat', 'A': 'Apple'}"
      ]
     },
     "execution_count": 8,
     "metadata": {},
     "output_type": "execute_result"
    }
   ],
   "source": [
    "d = {'a':'Apple','b':\"Ball\",'c':\"Cat\",'A':'Apple'}\n",
    "d"
   ]
  },
  {
   "cell_type": "code",
   "execution_count": 9,
   "id": "1725e39b",
   "metadata": {},
   "outputs": [],
   "source": [
    "# No + *"
   ]
  },
  {
   "cell_type": "code",
   "execution_count": 11,
   "id": "4a428ec1",
   "metadata": {},
   "outputs": [
    {
     "data": {
      "text/plain": [
       "{'a': 'Apple', 'b': 'Ball', 'e': 'egg'}"
      ]
     },
     "execution_count": 11,
     "metadata": {},
     "output_type": "execute_result"
    }
   ],
   "source": [
    "d = {}\n",
    "d['a'] = 'Apple'\n",
    "d['b'] = 'Ball'\n",
    "d['e'] = 'egg'\n",
    "d"
   ]
  },
  {
   "cell_type": "code",
   "execution_count": 12,
   "id": "f63daacf",
   "metadata": {},
   "outputs": [
    {
     "name": "stdout",
     "output_type": "stream",
     "text": [
      "Enter n = 2\n",
      "Enter name = Ram\n",
      "Enter phone = 9808778765\n",
      "Enter name = Shyam\n",
      "Enter phone = 980878765\n"
     ]
    },
    {
     "data": {
      "text/plain": [
       "{'Ram': '9808778765', 'Shyam': '980878765'}"
      ]
     },
     "execution_count": 12,
     "metadata": {},
     "output_type": "execute_result"
    }
   ],
   "source": [
    "d = {}\n",
    "n = int(input(\"Enter n = \"))\n",
    "for i in range(n):\n",
    "    name = input(\"Enter name = \")\n",
    "    phone = input(\"Enter phone = \")\n",
    "    d[name] = phone\n",
    "d"
   ]
  },
  {
   "cell_type": "code",
   "execution_count": 13,
   "id": "0db36dfe",
   "metadata": {},
   "outputs": [
    {
     "name": "stdout",
     "output_type": "stream",
     "text": [
      "Ram\n",
      "Shyam\n"
     ]
    }
   ],
   "source": [
    "d = {'Ram': '9808778765', 'Shyam': '980878765'}\n",
    "for i in d:\n",
    "    print(i)"
   ]
  },
  {
   "cell_type": "code",
   "execution_count": 14,
   "id": "1bf5c04c",
   "metadata": {},
   "outputs": [
    {
     "name": "stdout",
     "output_type": "stream",
     "text": [
      "9808778765\n",
      "980878765\n"
     ]
    }
   ],
   "source": [
    "d = {'Ram': '9808778765', 'Shyam': '980878765'}\n",
    "for i in d.values():\n",
    "    print(i)"
   ]
  },
  {
   "cell_type": "code",
   "execution_count": 15,
   "id": "6b5eea2d",
   "metadata": {},
   "outputs": [
    {
     "name": "stdout",
     "output_type": "stream",
     "text": [
      "('Ram', '9808778765')\n",
      "('Shyam', '980878765')\n"
     ]
    }
   ],
   "source": [
    "d = {'Ram': '9808778765', 'Shyam': '980878765'}\n",
    "for i in d.items():\n",
    "    print(i)"
   ]
  },
  {
   "cell_type": "code",
   "execution_count": 18,
   "id": "b3fe2b04",
   "metadata": {},
   "outputs": [
    {
     "data": {
      "text/plain": [
       "{'Ram': 98087787654, 'Shyam': '980878765'}"
      ]
     },
     "execution_count": 18,
     "metadata": {},
     "output_type": "execute_result"
    }
   ],
   "source": [
    "d = {'Ram': '9808778765', 'Shyam': '980878765'}\n",
    "d['Ram'] = 98087787654\n",
    "d"
   ]
  },
  {
   "cell_type": "code",
   "execution_count": 19,
   "id": "c07b79b4",
   "metadata": {},
   "outputs": [
    {
     "data": {
      "text/plain": [
       "{'Shyam': '980878765'}"
      ]
     },
     "execution_count": 19,
     "metadata": {},
     "output_type": "execute_result"
    }
   ],
   "source": [
    "# del pop\n",
    "d = {'Ram': '9808778765', 'Shyam': '980878765'}\n",
    "del d['Ram']\n",
    "d"
   ]
  },
  {
   "cell_type": "code",
   "execution_count": 20,
   "id": "1bcefd2c",
   "metadata": {},
   "outputs": [
    {
     "data": {
      "text/plain": [
       "{'Shyam': '980878765'}"
      ]
     },
     "execution_count": 20,
     "metadata": {},
     "output_type": "execute_result"
    }
   ],
   "source": [
    "d = {'Ram': '9808778765', 'Shyam': '980878765'}\n",
    "d.pop('Ram')\n",
    "d"
   ]
  },
  {
   "cell_type": "code",
   "execution_count": 21,
   "id": "1757c69e",
   "metadata": {},
   "outputs": [
    {
     "data": {
      "text/plain": [
       "{'Ram': 98087787654,\n",
       " 'Shyam': '980878765',\n",
       " 'Hari': 98087787654,\n",
       " 'Sita': '980878765'}"
      ]
     },
     "execution_count": 21,
     "metadata": {},
     "output_type": "execute_result"
    }
   ],
   "source": [
    "a = {'Ram': 98087787654, 'Shyam': 980878765}\n",
    "b = {'Hari': 98087787654, 'Sita': 980878765}\n",
    "a.update(b)\n",
    "a"
   ]
  },
  {
   "cell_type": "code",
   "execution_count": 24,
   "id": "2bbf9cf9",
   "metadata": {},
   "outputs": [
    {
     "name": "stdout",
     "output_type": "stream",
     "text": [
      "{'Ram': [98087787654, 9808778765], 'Shyam': [980878765, 9878778654]}\n",
      "[98087787654, 9808778765]\n",
      "98087787654\n"
     ]
    }
   ],
   "source": [
    "#list inside dict\n",
    "a = {'Ram': [98087787654,9808778765], 'Shyam': [980878765,9878778654]}\n",
    "print(a)\n",
    "print(a['Ram'])\n",
    "print(a['Ram'][0])"
   ]
  },
  {
   "cell_type": "code",
   "execution_count": 25,
   "id": "2fb37252",
   "metadata": {},
   "outputs": [
    {
     "name": "stdout",
     "output_type": "stream",
     "text": [
      "Enter n = 2\n",
      "Enter name = Ram\n",
      "Enter ntc phone = 9867667654\n",
      "Enter ncell phone = 9808778765\n",
      "Enter name = Shyam\n",
      "Enter ntc phone = 9867887654\n",
      "Enter ncell phone = 9808778765\n",
      "{'Ram': ['9867667654', '9808778765'], 'Shyam': ['9867887654', '9808778765']}\n"
     ]
    }
   ],
   "source": [
    "d = {}\n",
    "n = int(input(\"Enter n = \"))\n",
    "for i in range(n):\n",
    "    name = input(\"Enter name = \")\n",
    "    ntc_phone = input(\"Enter ntc phone = \")\n",
    "    ncell_phone = input(\"Enter ncell phone = \")\n",
    "\n",
    "    d[name] = [ntc_phone,ncell_phone]\n",
    "print(d)"
   ]
  },
  {
   "cell_type": "code",
   "execution_count": 26,
   "id": "d95bc6e6",
   "metadata": {},
   "outputs": [],
   "source": [
    "# WAP to add update delete in the following dict\n",
    "# {'Ram': ['9867667654', '9808778765'], 'Shyam': ['9867887654', '9808778765']}\n"
   ]
  },
  {
   "cell_type": "code",
   "execution_count": 27,
   "id": "7ffec170",
   "metadata": {},
   "outputs": [
    {
     "data": {
      "text/plain": [
       "[{'name': 'Ram', 'age': 34, 'add': 'Kathmandu'},\n",
       " {'name': 'Akash', 'age': 24, 'add': 'Patan'},\n",
       " {'name': 'Nabin', 'age': 54, 'add': 'Jhapa'}]"
      ]
     },
     "execution_count": 27,
     "metadata": {},
     "output_type": "execute_result"
    }
   ],
   "source": [
    "#dict inside list\n",
    "l = [{'name':'Ram','age':34,'add':'Kathmandu'},\n",
    "    {'name':'Akash','age':24,'add':'Patan'},\n",
    "    {'name':'Nabin','age':54,'add':'Jhapa'}]\n",
    "l"
   ]
  },
  {
   "cell_type": "code",
   "execution_count": null,
   "id": "495f6f55",
   "metadata": {},
   "outputs": [],
   "source": [
    "l = []\n",
    "n = int(input(\"Enter n = \"))\n",
    "for i in range(n):\n",
    "    name = input(\"Enetr name = \")\n",
    "    age = int(input(\"Enter age = \"))\n",
    "    add = input(\"Enter add = \")\n",
    "    info = {'name': name, 'age': age, 'add': add}\n",
    "    l.append(info)\n",
    "    \n",
    "print(l)"
   ]
  },
  {
   "cell_type": "code",
   "execution_count": 29,
   "id": "6b626585",
   "metadata": {},
   "outputs": [],
   "source": [
    "# WAP to add update delete with the following list\n",
    "# [{'name': 'Ram', 'age': 34, 'add': 'Kathmandu'},\n",
    "#  {'name': 'Akash', 'age': 24, 'add': 'Patan'},\n",
    "#  {'name': 'Nabin', 'age': 54, 'add': 'Jhapa'}]"
   ]
  },
  {
   "cell_type": "code",
   "execution_count": 1,
   "id": "cf49178a",
   "metadata": {},
   "outputs": [
    {
     "name": "stdout",
     "output_type": "stream",
     "text": [
      "{1: {'name': 'Ram', 'age': 34, 'add': 'Kathmandu'}, 2: {'name': 'Shyam', 'age': 64, 'add': 'Bhaktapur'}, 3: {'name': 'Akash', 'age': 24, 'add': 'Lalitpur'}}\n"
     ]
    }
   ],
   "source": [
    "# dict inside dict\n",
    "a = {1:{'name':'Ram','age':34,'add':'Kathmandu'},\n",
    "    2:{'name':'Shyam','age':64,'add':'Bhaktapur'},\n",
    "    3:{'name':'Akash','age':24,'add':'Lalitpur'}}\n",
    "print(a)"
   ]
  },
  {
   "cell_type": "code",
   "execution_count": 2,
   "id": "9d2970f4",
   "metadata": {},
   "outputs": [
    {
     "name": "stdout",
     "output_type": "stream",
     "text": [
      "Enter name = Ram\n",
      "Enter age = 89\n",
      "Enter add = Kathmandu\n",
      "Enter name = Shyam\n",
      "Enter age = 89\n",
      "Enter add = Kathmandu\n",
      "{1: {'name': 'Ram', 'age': 89, 'add': 'Kathmandu'}, 2: {'name': 'Shyam', 'age': 89, 'add': 'Kathmandu'}}\n"
     ]
    }
   ],
   "source": [
    "d = {}\n",
    "for i in range(1,3):\n",
    "    name = input(\"Enter name = \")\n",
    "    age = int(input(\"Enter age = \"))\n",
    "    add = input(\"Enter add = \")\n",
    "    d[i] = {'name':name,'age':age,'add':add}\n",
    "    \n",
    "print(d)"
   ]
  },
  {
   "cell_type": "code",
   "execution_count": 4,
   "id": "83e3dc2d",
   "metadata": {},
   "outputs": [
    {
     "data": {
      "text/plain": [
       "'Ram'"
      ]
     },
     "execution_count": 4,
     "metadata": {},
     "output_type": "execute_result"
    }
   ],
   "source": [
    "d[1]['name']"
   ]
  },
  {
   "cell_type": "code",
   "execution_count": null,
   "id": "f5939687",
   "metadata": {},
   "outputs": [],
   "source": []
  }
 ],
 "metadata": {
  "kernelspec": {
   "display_name": "Python 3 (ipykernel)",
   "language": "python",
   "name": "python3"
  },
  "language_info": {
   "codemirror_mode": {
    "name": "ipython",
    "version": 3
   },
   "file_extension": ".py",
   "mimetype": "text/x-python",
   "name": "python",
   "nbconvert_exporter": "python",
   "pygments_lexer": "ipython3",
   "version": "3.9.12"
  }
 },
 "nbformat": 4,
 "nbformat_minor": 5
}
