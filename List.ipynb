{
 "cells": [
  {
   "cell_type": "code",
   "execution_count": 1,
   "id": "4f44071e",
   "metadata": {},
   "outputs": [],
   "source": [
    "# Python Collection\n",
    "# list\n",
    "# tuple\n",
    "# dict\n",
    "# set"
   ]
  },
  {
   "cell_type": "code",
   "execution_count": 2,
   "id": "748ee95a",
   "metadata": {},
   "outputs": [],
   "source": [
    "# # List\n",
    "# Indexed\n",
    "# Multiple and duplicate data\n",
    "# Ordered\n",
    "# Mutable"
   ]
  },
  {
   "cell_type": "code",
   "execution_count": 3,
   "id": "08ba97bb",
   "metadata": {},
   "outputs": [
    {
     "name": "stdout",
     "output_type": "stream",
     "text": [
      "<class 'list'>\n",
      "<class 'list'>\n"
     ]
    }
   ],
   "source": [
    "l = [\"Apple\",\"Ball\",\"Cat\",\"Dog\"]\n",
    "l1 = [1,2,3,4,5,6]\n",
    "print(type(l))\n",
    "print(type(l1))"
   ]
  },
  {
   "cell_type": "code",
   "execution_count": 4,
   "id": "2c611258",
   "metadata": {},
   "outputs": [],
   "source": [
    "l = list()\n",
    "l1 = []"
   ]
  },
  {
   "cell_type": "code",
   "execution_count": 8,
   "id": "df077209",
   "metadata": {},
   "outputs": [
    {
     "name": "stdout",
     "output_type": "stream",
     "text": [
      "Apple\n",
      "['Apple', 'Ball', 'Cat', 'Dog']\n",
      "['Apple', 'Cat', 'Fish']\n"
     ]
    }
   ],
   "source": [
    "l = [\"Apple\",\"Ball\",\"Cat\",\"Dog\",\"Fish\",\"Goat\"]\n",
    "print(l[0])\n",
    "print(l[0:4])\n",
    "print(l[0:5:2])"
   ]
  },
  {
   "cell_type": "code",
   "execution_count": 9,
   "id": "121d88da",
   "metadata": {},
   "outputs": [
    {
     "data": {
      "text/plain": [
       "[1, 2, 3, 2, 3, 4, 5, 6, 4, 6, 5, 6]"
      ]
     },
     "execution_count": 9,
     "metadata": {},
     "output_type": "execute_result"
    }
   ],
   "source": [
    "l = [1,2,3,2,3,4,5,6,4,6,5,6]\n",
    "l"
   ]
  },
  {
   "cell_type": "code",
   "execution_count": 10,
   "id": "97a1bdf1",
   "metadata": {},
   "outputs": [],
   "source": [
    "# + *"
   ]
  },
  {
   "cell_type": "code",
   "execution_count": 11,
   "id": "dd80c520",
   "metadata": {},
   "outputs": [
    {
     "name": "stdout",
     "output_type": "stream",
     "text": [
      "[1, 2, 3, 4, 5, 6, 4, 5, 6, 7, 8, 8, 9]\n"
     ]
    }
   ],
   "source": [
    "a = [1,2,3,4,5,6]\n",
    "b = [4,5,6,7,8,8,9]\n",
    "c = a+b\n",
    "print(c)"
   ]
  },
  {
   "cell_type": "code",
   "execution_count": 12,
   "id": "0332a2a5",
   "metadata": {},
   "outputs": [
    {
     "name": "stdout",
     "output_type": "stream",
     "text": [
      "[1, 2, 3, 4, 5, 6, 1, 2, 3, 4, 5, 6]\n"
     ]
    }
   ],
   "source": [
    "a = [1,2,3,4,5,6]\n",
    "print(a*2)"
   ]
  },
  {
   "cell_type": "code",
   "execution_count": 13,
   "id": "1322b61c",
   "metadata": {},
   "outputs": [
    {
     "name": "stdout",
     "output_type": "stream",
     "text": [
      "Apple\n",
      "Ball\n",
      "Cat\n",
      "Dog\n",
      "Fish\n",
      "Goat\n"
     ]
    }
   ],
   "source": [
    "l = [\"Apple\",\"Ball\",\"Cat\",\"Dog\",\"Fish\",\"Goat\"]\n",
    "for i in l:\n",
    "    print(i)"
   ]
  },
  {
   "cell_type": "code",
   "execution_count": 15,
   "id": "ddf64324",
   "metadata": {},
   "outputs": [
    {
     "name": "stdout",
     "output_type": "stream",
     "text": [
      "6\n",
      "Apple\n",
      "Ball\n",
      "Cat\n",
      "Dog\n",
      "Fish\n",
      "Goat\n"
     ]
    }
   ],
   "source": [
    "a = [\"Apple\",\"Ball\",\"Cat\",\"Dog\",\"Fish\",\"Goat\"]\n",
    "l = len(a)\n",
    "print(l)\n",
    "for i in range(l):\n",
    "    print(a[i])"
   ]
  },
  {
   "cell_type": "code",
   "execution_count": 20,
   "id": "d8b29ed0",
   "metadata": {},
   "outputs": [
    {
     "name": "stdout",
     "output_type": "stream",
     "text": [
      "Yes\n",
      "2\n"
     ]
    }
   ],
   "source": [
    "a = [\"Apple\",\"Ball\",\"Cat\",\"Dog\",\"Fish\",\"Goat\",\"Ball\"]\n",
    "if \"Ball\" in a:\n",
    "    print(\"Yes\")\n",
    "    print(a.count(\"Ball\"))\n",
    "else:\n",
    "    print(\"No\")"
   ]
  },
  {
   "cell_type": "code",
   "execution_count": 18,
   "id": "c9f13c53",
   "metadata": {},
   "outputs": [],
   "source": [
    "# input\n",
    "# append() insert() extend()\n",
    "\n",
    "# delete\n",
    "# del remove() pop()"
   ]
  },
  {
   "cell_type": "code",
   "execution_count": 21,
   "id": "63bd8511",
   "metadata": {},
   "outputs": [
    {
     "data": {
      "text/plain": [
       "['Apple', 'Ball']"
      ]
     },
     "execution_count": 21,
     "metadata": {},
     "output_type": "execute_result"
    }
   ],
   "source": [
    "a = []\n",
    "a.append(\"Apple\")\n",
    "a.append(\"Ball\")\n",
    "a"
   ]
  },
  {
   "cell_type": "code",
   "execution_count": 23,
   "id": "4d7682bc",
   "metadata": {},
   "outputs": [
    {
     "name": "stdout",
     "output_type": "stream",
     "text": [
      "Enter n = 10\n",
      "Enter x = 324\n",
      "Enter x = 435\n",
      "Enter x = 234\n",
      "Enter x = 456\n",
      "Enter x = 34\n",
      "Enter x = 675\n",
      "Enter x = 345\n",
      "Enter x = 67\n",
      "Enter x = 345\n",
      "Enter x = 657\n",
      "[324, 435, 234, 456, 34, 675, 345, 67, 345, 657]\n"
     ]
    }
   ],
   "source": [
    "l = []\n",
    "n = int(input(\"Enter n = \"))\n",
    "for i in range(n):\n",
    "    x = int(input(\"Enter x = \"))\n",
    "    l.append(x)\n",
    "    \n",
    "print(l)"
   ]
  },
  {
   "cell_type": "code",
   "execution_count": 30,
   "id": "5b7c524b",
   "metadata": {},
   "outputs": [
    {
     "name": "stdout",
     "output_type": "stream",
     "text": [
      "The max value =  675\n",
      "The min value =  34\n",
      "[34, 67, 234, 324, 345, 345, 435, 456, 657, 675]\n",
      "[675, 657, 456, 435, 345, 345, 324, 234, 67, 34]\n"
     ]
    }
   ],
   "source": [
    "l = [324, 435, 234, 456, 34, 675, 345, 67, 345, 657]\n",
    "print(\"The max value = \",max(l))\n",
    "print(\"The min value = \",min(l))\n",
    "l.sort()\n",
    "l.reverse()\n",
    "print(l)"
   ]
  },
  {
   "cell_type": "code",
   "execution_count": 37,
   "id": "bb826295",
   "metadata": {},
   "outputs": [
    {
     "name": "stdout",
     "output_type": "stream",
     "text": [
      "['.apple', '1apple', 'Ant', 'Apple', 'Ball', 'Bat', 'Cat', 'fish']\n"
     ]
    }
   ],
   "source": [
    "a = [\"Ball\",\"Cat\",\"Apple\",\"Ant\",\"Bat\",'.apple','1apple','fish']\n",
    "a.sort()\n",
    "print(a)"
   ]
  },
  {
   "cell_type": "code",
   "execution_count": 38,
   "id": "6b437dbf",
   "metadata": {},
   "outputs": [
    {
     "data": {
      "text/plain": [
       "['Ball', 'cat', 'Cat', 'Apple', 'Ant', 'Bat', '.apple', '1apple', 'fish']"
      ]
     },
     "execution_count": 38,
     "metadata": {},
     "output_type": "execute_result"
    }
   ],
   "source": [
    "# insert()\n",
    "a = [\"Ball\",\"Cat\",\"Apple\",\"Ant\",\"Bat\",'.apple','1apple','fish']\n",
    "a.insert(1,\"cat\")\n",
    "a"
   ]
  },
  {
   "cell_type": "code",
   "execution_count": 39,
   "id": "d9d280cf",
   "metadata": {},
   "outputs": [
    {
     "data": {
      "text/plain": [
       "['Ball', 'Cat', 'Apple', 'Ant', 'Bat', '.apple', '1apple', 'fish', 1, 2, 3, 4]"
      ]
     },
     "execution_count": 39,
     "metadata": {},
     "output_type": "execute_result"
    }
   ],
   "source": [
    "# extend\n",
    "a = [\"Ball\",\"Cat\",\"Apple\",\"Ant\",\"Bat\",'.apple','1apple','fish']\n",
    "b = [1,2,3,4]\n",
    "a.extend(b)\n",
    "a"
   ]
  },
  {
   "cell_type": "code",
   "execution_count": 43,
   "id": "df631fee",
   "metadata": {},
   "outputs": [
    {
     "data": {
      "text/plain": [
       "['.apple',\n",
       " '1',\n",
       " '1apple',\n",
       " '2',\n",
       " '3',\n",
       " '4',\n",
       " 'Ant',\n",
       " 'Apple',\n",
       " 'Ball',\n",
       " 'Bat',\n",
       " 'Cat',\n",
       " 'fish']"
      ]
     },
     "execution_count": 43,
     "metadata": {},
     "output_type": "execute_result"
    }
   ],
   "source": [
    "a = ['Ball', 'Cat', 'Apple', 'Ant', 'Bat', '.apple', '1apple', 'fish', \"1\", \"2\", \"3\", \"4\"]\n",
    "\n",
    "a.sort()\n",
    "a"
   ]
  },
  {
   "cell_type": "code",
   "execution_count": 45,
   "id": "9474131c",
   "metadata": {},
   "outputs": [
    {
     "data": {
      "text/plain": [
       "['ball', 'Cat', 'Apple', 'Ant', 'Bat', '.apple', '1apple', 'fish']"
      ]
     },
     "execution_count": 45,
     "metadata": {},
     "output_type": "execute_result"
    }
   ],
   "source": [
    "# Update\n",
    "a = [\"Ball\",\"Cat\",\"Apple\",\"Ant\",\"Bat\",'.apple','1apple','fish']\n",
    "a[0] = \"ball\"\n",
    "a"
   ]
  },
  {
   "cell_type": "code",
   "execution_count": 50,
   "id": "1b555fea",
   "metadata": {},
   "outputs": [
    {
     "data": {
      "text/plain": [
       "['Ball', 'Cat', 'Apple', 'ball', 'cat', 'Bat', '.apple', '1apple', 'fish']"
      ]
     },
     "execution_count": 50,
     "metadata": {},
     "output_type": "execute_result"
    }
   ],
   "source": [
    "a = [\"Ball\",\"Cat\",\"Apple\",\"Ant\",\"Bat\",'.apple','1apple','fish']\n",
    "a[3:4] = [\"ball\",\"cat\"]\n",
    "a"
   ]
  },
  {
   "cell_type": "code",
   "execution_count": 47,
   "id": "ad2912b7",
   "metadata": {},
   "outputs": [
    {
     "data": {
      "text/plain": [
       "['ball', 'cat', 'Apple', 'Ant', 'Bat', '.apple', '1apple', 'fish']"
      ]
     },
     "execution_count": 47,
     "metadata": {},
     "output_type": "execute_result"
    }
   ],
   "source": [
    "a = [\"Ball\",\"Cat\",\"Apple\",\"Ant\",\"Bat\",'.apple','1apple','fish']\n",
    "a[0:2] = [\"ball\",\"cat\"]\n",
    "a"
   ]
  },
  {
   "cell_type": "code",
   "execution_count": 53,
   "id": "a2e02b74",
   "metadata": {},
   "outputs": [
    {
     "data": {
      "text/plain": [
       "['Cat', 'Apple', 'Ant', 'Bat', '.apple', '1apple', 'fish']"
      ]
     },
     "execution_count": 53,
     "metadata": {},
     "output_type": "execute_result"
    }
   ],
   "source": [
    "# delete\n",
    "a = [\"Ball\",\"Cat\",\"Apple\",\"Ant\",\"Bat\",'.apple','1apple','fish']\n",
    "del a[0]\n",
    "a"
   ]
  },
  {
   "cell_type": "code",
   "execution_count": 54,
   "id": "70be684b",
   "metadata": {},
   "outputs": [
    {
     "data": {
      "text/plain": [
       "['Ant', 'Bat', '.apple', '1apple', 'fish']"
      ]
     },
     "execution_count": 54,
     "metadata": {},
     "output_type": "execute_result"
    }
   ],
   "source": [
    "a = [\"Ball\",\"Cat\",\"Apple\",\"Ant\",\"Bat\",'.apple','1apple','fish']\n",
    "del a[0:3]\n",
    "a"
   ]
  },
  {
   "cell_type": "code",
   "execution_count": 55,
   "id": "601f8c82",
   "metadata": {},
   "outputs": [
    {
     "data": {
      "text/plain": [
       "['Cat', 'Ant', '.apple', 'fish']"
      ]
     },
     "execution_count": 55,
     "metadata": {},
     "output_type": "execute_result"
    }
   ],
   "source": [
    "a = [\"Ball\",\"Cat\",\"Apple\",\"Ant\",\"Bat\",'.apple','1apple','fish']\n",
    "del a[0:10:2]\n",
    "a"
   ]
  },
  {
   "cell_type": "code",
   "execution_count": 58,
   "id": "fa51bfac",
   "metadata": {},
   "outputs": [
    {
     "data": {
      "text/plain": [
       "['Cat', 'Apple', 'Ant', 'Bat', '.apple', '1apple', 'fish']"
      ]
     },
     "execution_count": 58,
     "metadata": {},
     "output_type": "execute_result"
    }
   ],
   "source": [
    "# remove()\n",
    "a = [\"Ball\",\"Cat\",\"Apple\",\"Ant\",\"Bat\",'.apple','1apple','fish']\n",
    "a.remove(\"Ball\")\n",
    "a"
   ]
  },
  {
   "cell_type": "code",
   "execution_count": 59,
   "id": "aa4ccec2",
   "metadata": {},
   "outputs": [
    {
     "data": {
      "text/plain": [
       "['Cat', 'Apple', 'Ant', 'Bat', '.apple', '1apple', 'fish']"
      ]
     },
     "execution_count": 59,
     "metadata": {},
     "output_type": "execute_result"
    }
   ],
   "source": [
    "# remove()\n",
    "a = [\"Ball\",\"Cat\",\"Apple\",\"Ant\",\"Bat\",'.apple','1apple','fish',\"Ball\"]\n",
    "c = a.count(\"Ball\")\n",
    "for i in range(c):\n",
    "    a.remove(\"Ball\")\n",
    "a"
   ]
  },
  {
   "cell_type": "code",
   "execution_count": 61,
   "id": "8dcebdb3",
   "metadata": {},
   "outputs": [
    {
     "name": "stdout",
     "output_type": "stream",
     "text": [
      "['Cat', 'Apple', 'Ant', 'Bat', '.apple', '1apple', 'fish']\n",
      "Ball\n"
     ]
    }
   ],
   "source": [
    "# pop()\n",
    "a = [\"Ball\",\"Cat\",\"Apple\",\"Ant\",\"Bat\",'.apple','1apple','fish']\n",
    "b = a.pop(0)\n",
    "print(a)\n",
    "print(b)"
   ]
  },
  {
   "cell_type": "code",
   "execution_count": 5,
   "id": "a3079894",
   "metadata": {},
   "outputs": [
    {
     "name": "stdout",
     "output_type": "stream",
     "text": [
      "<class 'list'>\n"
     ]
    }
   ],
   "source": [
    "# list inside list\n",
    "l = [[1,2,3],\n",
    "    [4,5,6],\n",
    "    [7,8,9]]\n",
    "print(type(l))"
   ]
  },
  {
   "cell_type": "code",
   "execution_count": 8,
   "id": "e89e06e9",
   "metadata": {},
   "outputs": [
    {
     "name": "stdout",
     "output_type": "stream",
     "text": [
      "[1, 2, 3]\n",
      "2\n"
     ]
    }
   ],
   "source": [
    "print(l[0])\n",
    "print(l[0][1])"
   ]
  },
  {
   "cell_type": "code",
   "execution_count": 12,
   "id": "b27145bc",
   "metadata": {},
   "outputs": [
    {
     "name": "stdout",
     "output_type": "stream",
     "text": [
      "[['Ram', 90, 'Kathmandu'], ['Shyam', 34, 'Bhaktapur'], ['Hari', 45, 'Lalitpur']]\n",
      "['Ram', 90, 'Kathmandu']\n",
      "Bhaktapur\n"
     ]
    }
   ],
   "source": [
    "l = [[\"Ram\",90,'Kathmandu'],\n",
    "    [\"Shyam\",34,\"Bhaktapur\"],\n",
    "    [\"Hari\",45,\"Lalitpur\"]]\n",
    "print(l)\n",
    "print(l[0])\n",
    "print(l[1][2])"
   ]
  },
  {
   "cell_type": "code",
   "execution_count": 14,
   "id": "61fa1668",
   "metadata": {},
   "outputs": [
    {
     "name": "stdout",
     "output_type": "stream",
     "text": [
      "Enter n = 2\n",
      "Enter name = ram\n",
      "Enter age = 90\n",
      "Enter add = Kathmandu\n",
      "Enter name = shyam\n",
      "Enter age = 89\n",
      "Enter add = Bhaktapur\n",
      "[['ram', 90, 'Kathmandu'], ['shyam', 89, 'Bhaktapur']]\n"
     ]
    }
   ],
   "source": [
    "info = []\n",
    "n = int(input(\"Enter n = \"))\n",
    "for i in range(n):\n",
    "    name = input(\"Enter name = \")\n",
    "    age = int(input(\"Enter age = \"))\n",
    "    add = input(\"Enter add = \")\n",
    "    data = [name,age,add]\n",
    "    info.append(data)\n",
    "    \n",
    "print(info)"
   ]
  },
  {
   "cell_type": "code",
   "execution_count": 17,
   "id": "601063ae",
   "metadata": {},
   "outputs": [
    {
     "data": {
      "text/plain": [
       "[['Ram', 90, 'Kathmandu'], ['shyam', 89, 'Bhaktapur']]"
      ]
     },
     "execution_count": 17,
     "metadata": {},
     "output_type": "execute_result"
    }
   ],
   "source": [
    "a = [['ram', 90, 'Kathmandu'], ['shyam', 89, 'Bhaktapur']]\n",
    "a [0][0] = \"Ram\"\n",
    "a"
   ]
  },
  {
   "cell_type": "code",
   "execution_count": 19,
   "id": "4d1699ec",
   "metadata": {},
   "outputs": [
    {
     "data": {
      "text/plain": [
       "[['shyam', 89, 'Bhaktapur']]"
      ]
     },
     "execution_count": 19,
     "metadata": {},
     "output_type": "execute_result"
    }
   ],
   "source": [
    "a = [['ram', 90, 'Kathmandu'], ['shyam', 89, 'Bhaktapur']]\n",
    "del a[0]\n",
    "a"
   ]
  },
  {
   "cell_type": "code",
   "execution_count": 20,
   "id": "36474b87",
   "metadata": {},
   "outputs": [
    {
     "data": {
      "text/plain": [
       "[['ram', 90, 'Kathmandu'],\n",
       " ['shyam', 89, 'Bhaktapur'],\n",
       " ['Hari', 34, 'Lalitpur']]"
      ]
     },
     "execution_count": 20,
     "metadata": {},
     "output_type": "execute_result"
    }
   ],
   "source": [
    "a = [['ram', 90, 'Kathmandu'], ['shyam', 89, 'Bhaktapur']]\n",
    "a.append(['Hari',34,'Lalitpur'])\n",
    "a"
   ]
  },
  {
   "cell_type": "code",
   "execution_count": 21,
   "id": "16e23a1e",
   "metadata": {},
   "outputs": [
    {
     "data": {
      "text/plain": [
       "[['Hari', 34, 'Lalitpur'],\n",
       " ['ram', 90, 'Kathmandu'],\n",
       " ['shyam', 89, 'Bhaktapur']]"
      ]
     },
     "execution_count": 21,
     "metadata": {},
     "output_type": "execute_result"
    }
   ],
   "source": [
    "a = [['ram', 90, 'Kathmandu'], ['shyam', 89, 'Bhaktapur']]\n",
    "a.insert(0,['Hari',34,'Lalitpur'])\n",
    "a"
   ]
  },
  {
   "cell_type": "code",
   "execution_count": null,
   "id": "6f0f4e80",
   "metadata": {},
   "outputs": [],
   "source": []
  }
 ],
 "metadata": {
  "kernelspec": {
   "display_name": "Python 3 (ipykernel)",
   "language": "python",
   "name": "python3"
  },
  "language_info": {
   "codemirror_mode": {
    "name": "ipython",
    "version": 3
   },
   "file_extension": ".py",
   "mimetype": "text/x-python",
   "name": "python",
   "nbconvert_exporter": "python",
   "pygments_lexer": "ipython3",
   "version": "3.9.12"
  }
 },
 "nbformat": 4,
 "nbformat_minor": 5
}
