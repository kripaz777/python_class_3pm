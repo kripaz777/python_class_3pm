{
 "cells": [
  {
   "cell_type": "code",
   "execution_count": 1,
   "id": "bc35662c",
   "metadata": {},
   "outputs": [],
   "source": [
    "# Comprehensions: List, Dictionary\n"
   ]
  },
  {
   "cell_type": "code",
   "execution_count": 2,
   "id": "5aeec996",
   "metadata": {},
   "outputs": [
    {
     "data": {
      "text/plain": [
       "[0, 1, 2, 3, 4]"
      ]
     },
     "execution_count": 2,
     "metadata": {},
     "output_type": "execute_result"
    }
   ],
   "source": [
    "l = [i for i in range(5)]\n",
    "l"
   ]
  },
  {
   "cell_type": "code",
   "execution_count": 3,
   "id": "6320abc4",
   "metadata": {},
   "outputs": [
    {
     "name": "stdout",
     "output_type": "stream",
     "text": [
      "Enter value = 345\n",
      "Enter value = 765\n",
      "Enter value = 68\n",
      "Enter value = 345\n",
      "Enter value = 89\n"
     ]
    },
    {
     "data": {
      "text/plain": [
       "[345, 765, 68, 345, 89]"
      ]
     },
     "execution_count": 3,
     "metadata": {},
     "output_type": "execute_result"
    }
   ],
   "source": [
    "l = [int(input(\"Enter value = \")) for i in range(5)]\n",
    "l"
   ]
  },
  {
   "cell_type": "code",
   "execution_count": null,
   "id": "bb6f779b",
   "metadata": {},
   "outputs": [],
   "source": [
    "l = sum([int(input(\"Enter value = \")) for i in range(5)])\n",
    "l"
   ]
  },
  {
   "cell_type": "code",
   "execution_count": 4,
   "id": "f3d154c8",
   "metadata": {},
   "outputs": [
    {
     "data": {
      "text/plain": [
       "{1: 1, 2: 4, 3: 9, 4: 16}"
      ]
     },
     "execution_count": 4,
     "metadata": {},
     "output_type": "execute_result"
    }
   ],
   "source": [
    "d =  {i:i**2 for i in range(1,5)}\n",
    "d"
   ]
  },
  {
   "cell_type": "code",
   "execution_count": 1,
   "id": "6011a9d7",
   "metadata": {},
   "outputs": [
    {
     "name": "stdout",
     "output_type": "stream",
     "text": [
      "Enter name = Ram\n",
      "Enter phone = 9808889876\n",
      "Enter name = Shyam\n",
      "Enter phone = 9808778765\n"
     ]
    },
    {
     "data": {
      "text/plain": [
       "{'Ram': '9808889876', 'Shyam': '9808778765'}"
      ]
     },
     "execution_count": 1,
     "metadata": {},
     "output_type": "execute_result"
    }
   ],
   "source": [
    "d =  {input(\"Enter name = \"):input(\"Enter phone = \") for i in range(1,3)}\n",
    "d"
   ]
  },
  {
   "cell_type": "code",
   "execution_count": 2,
   "id": "0294247d",
   "metadata": {},
   "outputs": [],
   "source": [
    "#Date and time in python"
   ]
  },
  {
   "cell_type": "code",
   "execution_count": 4,
   "id": "20039db1",
   "metadata": {},
   "outputs": [
    {
     "name": "stdout",
     "output_type": "stream",
     "text": [
      "2023-06-11 19:51:29.083576\n"
     ]
    }
   ],
   "source": [
    "import datetime as dt\n",
    "\n",
    "x = dt.datetime.now()\n",
    "print(x)"
   ]
  },
  {
   "cell_type": "code",
   "execution_count": 13,
   "id": "00b7f256",
   "metadata": {},
   "outputs": [
    {
     "name": "stdout",
     "output_type": "stream",
     "text": [
      "06/11/23\n"
     ]
    }
   ],
   "source": [
    "import datetime\n",
    "\n",
    "x = datetime.datetime.now()\n",
    "\n",
    "print(x.strftime(\"%D\"))"
   ]
  },
  {
   "cell_type": "code",
   "execution_count": 18,
   "id": "252048ef",
   "metadata": {},
   "outputs": [
    {
     "name": "stdout",
     "output_type": "stream",
     "text": [
      "2023\n",
      "6\n",
      "11\n",
      "19\n"
     ]
    }
   ],
   "source": [
    "import datetime\n",
    "\n",
    "x = datetime.datetime.now()\n",
    "print(x.year)\n",
    "print(x.month)\n",
    "print(x.day)\n",
    "print(x.hour)"
   ]
  },
  {
   "cell_type": "code",
   "execution_count": 19,
   "id": "4feda9b5",
   "metadata": {},
   "outputs": [
    {
     "name": "stdout",
     "output_type": "stream",
     "text": [
      "Enter name = sfsdfd\n",
      "0:00:05.618464\n"
     ]
    }
   ],
   "source": [
    "import datetime\n",
    "\n",
    "x = datetime.datetime.now()\n",
    "a = input(\"Enter name = \")\n",
    "y = datetime.datetime.now()\n",
    "print(y-x)"
   ]
  },
  {
   "cell_type": "code",
   "execution_count": 20,
   "id": "7314daeb",
   "metadata": {},
   "outputs": [
    {
     "data": {
      "text/plain": [
       "['.ipynb_checkpoints',\n",
       " 'bill.csv',\n",
       " 'bonus.ipynb',\n",
       " 'class2.ipynb',\n",
       " 'covid_data.csv',\n",
       " 'csv and pandas.ipynb',\n",
       " 'data.csv',\n",
       " 'data.txt',\n",
       " 'data1.txt',\n",
       " 'dataframe.csv',\n",
       " 'file.ipynb',\n",
       " 'function.ipynb',\n",
       " 'if else.ipynb',\n",
       " 'inheritance.ipynb',\n",
       " 'List.ipynb',\n",
       " 'list_data.csv',\n",
       " 'loop.ipynb',\n",
       " 'new_data.csv',\n",
       " 'oop.ipynb',\n",
       " 'oop2.ipynb',\n",
       " 'project.ipynb',\n",
       " 'set.ipynb',\n",
       " 'string.ipynb',\n",
       " 'tuple.ipynb',\n",
       " 'Untitled.ipynb']"
      ]
     },
     "execution_count": 20,
     "metadata": {},
     "output_type": "execute_result"
    }
   ],
   "source": [
    "import os\n",
    "os.listdir()"
   ]
  },
  {
   "cell_type": "code",
   "execution_count": 21,
   "id": "88b0d353",
   "metadata": {},
   "outputs": [],
   "source": [
    "import os\n",
    "os.mkdir('new_folder')"
   ]
  },
  {
   "cell_type": "code",
   "execution_count": 22,
   "id": "cb4fe57c",
   "metadata": {},
   "outputs": [],
   "source": [
    "os.chdir('new_folder')"
   ]
  },
  {
   "cell_type": "code",
   "execution_count": 23,
   "id": "ed6fb1b9",
   "metadata": {},
   "outputs": [
    {
     "data": {
      "text/plain": [
       "'C:\\\\Users\\\\Aayush\\\\Python_class_3pm\\\\new_folder'"
      ]
     },
     "execution_count": 23,
     "metadata": {},
     "output_type": "execute_result"
    }
   ],
   "source": [
    "pwd"
   ]
  },
  {
   "cell_type": "code",
   "execution_count": 24,
   "id": "3f097269",
   "metadata": {},
   "outputs": [
    {
     "name": "stdout",
     "output_type": "stream",
     "text": [
      "C:\\Users\\Aayush\\Python_class_3pm\n"
     ]
    }
   ],
   "source": [
    "cd .."
   ]
  },
  {
   "cell_type": "code",
   "execution_count": 25,
   "id": "11725fd1",
   "metadata": {},
   "outputs": [],
   "source": [
    "os.rename('new_folder','newFolder')"
   ]
  },
  {
   "cell_type": "code",
   "execution_count": 27,
   "id": "d2020a3d",
   "metadata": {},
   "outputs": [],
   "source": [
    "os.remove('data1.txt')\n"
   ]
  },
  {
   "cell_type": "code",
   "execution_count": 29,
   "id": "a752e778",
   "metadata": {},
   "outputs": [],
   "source": [
    "os.rmdir('newFolder')"
   ]
  },
  {
   "cell_type": "code",
   "execution_count": null,
   "id": "cccbe242",
   "metadata": {},
   "outputs": [],
   "source": []
  }
 ],
 "metadata": {
  "kernelspec": {
   "display_name": "Python 3 (ipykernel)",
   "language": "python",
   "name": "python3"
  },
  "language_info": {
   "codemirror_mode": {
    "name": "ipython",
    "version": 3
   },
   "file_extension": ".py",
   "mimetype": "text/x-python",
   "name": "python",
   "nbconvert_exporter": "python",
   "pygments_lexer": "ipython3",
   "version": "3.9.12"
  }
 },
 "nbformat": 4,
 "nbformat_minor": 5
}
